{
  "nbformat": 4,
  "nbformat_minor": 0,
  "metadata": {
    "colab": {
      "provenance": [],
      "gpuType": "T4",
      "authorship_tag": "ABX9TyNzIbPxpZfTNk77pRjwbAD2",
      "include_colab_link": true
    },
    "kernelspec": {
      "name": "python3",
      "display_name": "Python 3"
    },
    "language_info": {
      "name": "python"
    },
    "accelerator": "GPU"
  },
  "cells": [
    {
      "cell_type": "markdown",
      "metadata": {
        "id": "view-in-github",
        "colab_type": "text"
      },
      "source": [
        "<a href=\"https://colab.research.google.com/github/ShubhamP1028/Crop-Disease-Detection/blob/main/CropDiseaseDetection.ipynb\" target=\"_parent\"><img src=\"https://colab.research.google.com/assets/colab-badge.svg\" alt=\"Open In Colab\"/></a>"
      ]
    },
    {
      "cell_type": "code",
      "execution_count": null,
      "metadata": {
        "colab": {
          "base_uri": "https://localhost:8080/"
        },
        "id": "E_nZtVWzdQZW",
        "outputId": "c9ca35cb-41a4-4aa3-aeed-109bc0b6e0c1"
      },
      "outputs": [
        {
          "output_type": "stream",
          "name": "stdout",
          "text": [
            "Cloning into 'PlantVillage-Dataset'...\n",
            "remote: Enumerating objects: 163235, done.\u001b[K\n",
            "remote: Counting objects: 100% (6/6), done.\u001b[K\n",
            "remote: Compressing objects: 100% (6/6), done.\u001b[K\n"
          ]
        }
      ],
      "source": [
        "! git clone https://github.com/spMohanty/PlantVillage-Dataset"
      ]
    },
    {
      "cell_type": "code",
      "source": [
        "DATASET_ROOT = \"/content/PlantVillage-Dataset/raw/color\""
      ],
      "metadata": {
        "id": "Iu9FXoTAgRVQ"
      },
      "execution_count": null,
      "outputs": []
    },
    {
      "cell_type": "code",
      "source": [
        "!ls $DATASET_ROOT | head"
      ],
      "metadata": {
        "id": "DBGwyVtLhxjz"
      },
      "execution_count": null,
      "outputs": []
    },
    {
      "cell_type": "code",
      "source": [
        "# !pip install tensorflow tensorflow-datasets matplotlib seaborn scikit-learn"
      ],
      "metadata": {
        "id": "jyiLdiAphTJX"
      },
      "execution_count": null,
      "outputs": []
    },
    {
      "cell_type": "code",
      "source": [
        "import os\n",
        "import numpy as np\n",
        "import matplotlib.pyplot as plt\n",
        "import tensorflow as tf\n",
        "from tensorflow.keras.preprocessing.image import ImageDataGenerator\n",
        "from sklearn.metrics import classification_report, confusion_matrix"
      ],
      "metadata": {
        "id": "2CyYDM6Mccqk"
      },
      "execution_count": null,
      "outputs": []
    },
    {
      "cell_type": "code",
      "source": [
        "img_size = (224, 224)\n",
        "batch_size = 32\n",
        "\n",
        "datagen = ImageDataGenerator(\n",
        "    validation_split=0.2,\n",
        "    rescale=1./255,\n",
        "    rotation_range=20,\n",
        "    zoom_range=0.2,\n",
        "    horizontal_flip=True\n",
        ")\n",
        "\n",
        "train_gen = datagen.flow_from_directory(\n",
        "    DATASET_ROOT,\n",
        "    target_size=img_size,\n",
        "    batch_size=batch_size,\n",
        "    subset=\"training\",\n",
        "    class_mode=\"categorical\"\n",
        ")\n",
        "\n",
        "val_gen = datagen.flow_from_directory(\n",
        "    DATASET_ROOT,\n",
        "    target_size=img_size,\n",
        "    batch_size=batch_size,\n",
        "    subset=\"validation\",\n",
        "    class_mode=\"categorical\"\n",
        ")"
      ],
      "metadata": {
        "id": "kfr6sRjGhZ01"
      },
      "execution_count": null,
      "outputs": []
    },
    {
      "cell_type": "code",
      "source": [
        "num_classes = len(train_gen.class_indices)\n",
        "print(\"Classes:\", train_gen.class_indices)"
      ],
      "metadata": {
        "id": "jYv23MWfhjz_"
      },
      "execution_count": null,
      "outputs": []
    },
    {
      "cell_type": "markdown",
      "source": [
        "Build Model (Transfer Learning)"
      ],
      "metadata": {
        "id": "L72tyLFiibF1"
      }
    },
    {
      "cell_type": "code",
      "source": [
        "base_model = tf.keras.applications.EfficientNetB0(\n",
        "    input_shape=(224,224,3),\n",
        "    include_top=False,\n",
        "    weights=\"imagenet\"\n",
        ")\n",
        "base_model.trainable = False  # Freeze base initially\n"
      ],
      "metadata": {
        "id": "t-4gDJO2z-7N"
      },
      "execution_count": null,
      "outputs": []
    },
    {
      "cell_type": "markdown",
      "source": [
        "Building custom classifier head"
      ],
      "metadata": {
        "id": "nSiIhJ6A0GWj"
      }
    },
    {
      "cell_type": "code",
      "source": [
        "x = tf.keras.layers.GlobalAveragePooling2D()(base_model.output)\n",
        "# Batch Normalisation\n",
        "x = tf.keras.layers.BatchNormalization()(x)"
      ],
      "metadata": {
        "id": "qEgrbTaI0NaN"
      },
      "execution_count": null,
      "outputs": []
    },
    {
      "cell_type": "code",
      "source": [
        "# Dropout for regularization\n",
        "x = tf.keras.layers.Dropout(0.4)(x)"
      ],
      "metadata": {
        "id": "fisfqhra0WpU"
      },
      "execution_count": null,
      "outputs": []
    },
    {
      "cell_type": "code",
      "source": [
        "x = tf.keras.layers.Dense(256, activation=\"relu\")(x)\n",
        "# Batch Normalisation after dense layer\n",
        "x = tf.keras.layers.BatchNormalization()(x)"
      ],
      "metadata": {
        "id": "qQfQ_yk74Ej5"
      },
      "execution_count": null,
      "outputs": []
    },
    {
      "cell_type": "code",
      "source": [
        "x = tf.keras.layers.Dropout(0.4)(x)\n",
        "outputs = tf.keras.layers.Dense(num_classes, activation=\"softmax\")(x)"
      ],
      "metadata": {
        "id": "f8YLa65u4Jnq"
      },
      "execution_count": null,
      "outputs": []
    },
    {
      "cell_type": "code",
      "source": [
        "model = tf.keras.Model(inputs=base_model.input, outputs=outputs)"
      ],
      "metadata": {
        "id": "DypDswjw4P07"
      },
      "execution_count": null,
      "outputs": []
    },
    {
      "cell_type": "markdown",
      "source": [
        "Compile Model"
      ],
      "metadata": {
        "id": "xsHzn7Oa4UkJ"
      }
    },
    {
      "cell_type": "code",
      "source": [
        "model.compile(\n",
        "    optimizer=tf.keras.optimizers.Adam(learning_rate=1e-4),\n",
        "    loss=\"categorical_crossentropy\",\n",
        "    metrics=[\"accuracy\"]\n",
        ")"
      ],
      "metadata": {
        "id": "__2mQPn44T-4"
      },
      "execution_count": null,
      "outputs": []
    },
    {
      "cell_type": "code",
      "source": [
        "model.summary()"
      ],
      "metadata": {
        "id": "di5G2PLI4ZU9"
      },
      "execution_count": null,
      "outputs": []
    },
    {
      "cell_type": "code",
      "source": [],
      "metadata": {
        "id": "kxGiqkecigTt"
      },
      "execution_count": null,
      "outputs": []
    },
    {
      "cell_type": "code",
      "source": [
        "import numpy as np\n",
        "import matplotlib.pyplot as plt\n",
        "\n",
        "class GradientLogger(tf.keras.callbacks.Callback):\n",
        "    def __init__(self):\n",
        "        self.batch_gradients = []\n",
        "\n",
        "    def on_train_batch_end(self, batch, logs=None):\n",
        "        with tf.GradientTape() as tape:\n",
        "            y_pred = self.model(self.model.train_function.inputs[0])\n",
        "            loss = self.model.compiled_loss(\n",
        "                self.model.train_function.inputs[1], y_pred\n",
        "            )\n",
        "        grads = tape.gradient(loss, self.model.trainable_weights)\n",
        "        # Collect average gradient magnitude per batch\n",
        "        grad_norm = np.mean([tf.reduce_mean(tf.abs(g)).numpy() for g in grads if g is not None])\n",
        "        self.batch_gradients.append(grad_norm)\n",
        "\n",
        "    def on_epoch_end(self, epoch, logs=None):\n",
        "        plt.plot(self.batch_gradients, label=f\"Epoch {epoch+1}\")\n",
        "        plt.title(\"Gradient Magnitudes per Batch\")\n",
        "        plt.xlabel(\"Batch\")\n",
        "        plt.ylabel(\"Average |Gradient|\")\n",
        "        plt.legend()\n",
        "        plt.show()\n",
        "        self.batch_gradients = []  # Reset for next epoch\n"
      ],
      "metadata": {
        "id": "aimbJQqZPckh"
      },
      "execution_count": null,
      "outputs": []
    },
    {
      "cell_type": "code",
      "source": [],
      "metadata": {
        "id": "Mwh_QrlJUpSw"
      },
      "execution_count": null,
      "outputs": []
    }
  ]
}